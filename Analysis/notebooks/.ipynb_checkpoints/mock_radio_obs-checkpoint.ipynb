{
 "cells": [
  {
   "cell_type": "code",
   "execution_count": 1,
   "id": "1a955e6f",
   "metadata": {},
   "outputs": [
    {
     "name": "stdout",
     "output_type": "stream",
     "text": [
      "Intel MKL WARNING: Support of Intel(R) Streaming SIMD Extensions 4.2 (Intel(R) SSE4.2) enabled only processors has been deprecated. Intel oneAPI Math Kernel Library 2025.0 will require Intel(R) Advanced Vector Extensions (Intel(R) AVX) instructions.\n",
      "Intel MKL WARNING: Support of Intel(R) Streaming SIMD Extensions 4.2 (Intel(R) SSE4.2) enabled only processors has been deprecated. Intel oneAPI Math Kernel Library 2025.0 will require Intel(R) Advanced Vector Extensions (Intel(R) AVX) instructions.\n"
     ]
    }
   ],
   "source": [
    "import seaborn as sns\n",
    "import matplotlib as mpl\n",
    "import _init_\n",
    "from constants import *\n",
    "from set_path import *\n",
    "from config import *\n",
    "from function import *\n",
    "import yt"
   ]
  },
  {
   "cell_type": "code",
   "execution_count": 2,
   "id": "bf7d6dfd",
   "metadata": {},
   "outputs": [],
   "source": [
    "data_path = '/Users/aditivijayan/Projects/SKA-obs/data/'\n",
    "infile   = os.path.join(data_path, 'metal_uniform.in')"
   ]
  },
  {
   "cell_type": "code",
   "execution_count": 6,
   "id": "5aa2eae4",
   "metadata": {},
   "outputs": [],
   "source": [
    "dom_min, dom_max, ncells = getdomain(infile)\n",
    "fac = 1\n",
    "zrange = np.linspace(dom_min[2], dom_max[2], (fac*int(ncells[2])))\n",
    "xrange = np.linspace(dom_min[0], dom_max[0], (fac*int(ncells[0])))\n",
    "yrange = np.linspace(dom_min[1], dom_max[1], (fac*int(ncells[1])))\n",
    "\n",
    "dx = (dom_max[0]- dom_min[0])/(fac*int(ncells[0]))\n",
    "dy = (dom_max[1]- dom_min[1])/(fac*int(ncells[1]))\n",
    "dz = (dom_max[2]- dom_min[2])/(fac*int(ncells[2]))\n",
    "dV = dx * dy * dz"
   ]
  },
  {
   "cell_type": "code",
   "execution_count": 7,
   "id": "44933de4",
   "metadata": {},
   "outputs": [
    {
     "name": "stderr",
     "output_type": "stream",
     "text": [
      "yt : [INFO     ] 2025-04-08 14:14:20,098 Parameters: current_time              = 782723018226.8291\n",
      "yt : [INFO     ] 2025-04-08 14:14:20,099 Parameters: domain_dimensions         = [ 64  64 512]\n",
      "yt : [INFO     ] 2025-04-08 14:14:20,099 Parameters: domain_left_edge          = [ 0.000e+00  0.000e+00 -6.036e+21]\n",
      "yt : [INFO     ] 2025-04-08 14:14:20,099 Parameters: domain_right_edge         = [3.018e+21 3.018e+21 6.036e+21]\n"
     ]
    },
    {
     "data": {
      "text/plain": [
       "unyt_quantity(0.024803, 'Myr')"
      ]
     },
     "execution_count": 7,
     "metadata": {},
     "output_type": "execute_result"
    }
   ],
   "source": [
    "f = 'plt00001'\n",
    "inputfile = os.path.join(data_path, f)\n",
    "ds   = yt.load(inputfile)\n",
    "ds.current_time.to('Myr')"
   ]
  },
  {
   "cell_type": "code",
   "execution_count": 8,
   "id": "bf95af9a",
   "metadata": {},
   "outputs": [],
   "source": [
    "lev = 0\n",
    "data = ds.covering_grid(level=lev, left_edge=dom_min, dims=ds.domain_dimensions * fac, num_ghost_zones=0)\n",
    "timestep = ds.current_time.to('Myr')\n",
    "\n",
    "rho = np.array(data['gasDensity'])"
   ]
  },
  {
   "cell_type": "code",
   "execution_count": null,
   "id": "718d5977",
   "metadata": {},
   "outputs": [],
   "source": [
    "rho"
   ]
  },
  {
   "cell_type": "code",
   "execution_count": 10,
   "id": "3ed6df9d",
   "metadata": {},
   "outputs": [
    {
     "data": {
      "text/plain": [
       "(2.9653436142965608e-24,\n",
       " (array([ 2, 39, 55, 60]),\n",
       "  array([62, 24, 43, 36]),\n",
       "  array([255, 255, 255, 255])),\n",
       " 2.1410156427785387e-30)"
      ]
     },
     "execution_count": 10,
     "metadata": {},
     "output_type": "execute_result"
    }
   ],
   "source": [
    "np.amax(rho), np.where(np.amax(rho)==rho), rho[0,0,0]"
   ]
  },
  {
   "cell_type": "code",
   "execution_count": 15,
   "id": "8d39ebe5",
   "metadata": {},
   "outputs": [
    {
     "data": {
      "text/plain": [
       "((array([ 0,  0,  0, ..., 63, 63, 63]),\n",
       "  array([ 0,  1,  2, ..., 61, 62, 63]),\n",
       "  array([78, 78, 78, ..., 78, 78, 78])),\n",
       " 1.9873861043854364e-36,\n",
       " 5.521708012613896e-30)"
      ]
     },
     "execution_count": 15,
     "metadata": {},
     "output_type": "execute_result"
    }
   ],
   "source": [
    "target = 5.52171e-30\n",
    "differences = np.abs(rho - target)\n",
    "np.where(differences == np.amin(differences)), np.amin(differences), rho[39,24,255]"
   ]
  },
  {
   "cell_type": "code",
   "execution_count": null,
   "id": "c794389c",
   "metadata": {},
   "outputs": [],
   "source": [
    "lev = 0\n",
    "data = ds.covering_grid(level=lev, left_edge=dom_min, dims=ds.domain_dimensions * fac, num_ghost_zones=0)\n",
    "timestep = ds.current_time.to('Myr')\n",
    "\n",
    "y_coord = 128\n",
    "\n",
    "time = ds.current_time.to('Myr')\n",
    "print(\"current time =\", time)\n",
    "\n",
    "print(\"reading fields...\")\n",
    "data = ds.r[::ncells[0]*1j, y_coord, ::ncells[2]*1j]\n",
    "rho_gas = data['gasDensity']\n",
    "eint    = np.array(data['gasInternalEnergy'])"
   ]
  },
  {
   "cell_type": "code",
   "execution_count": null,
   "id": "f616e886",
   "metadata": {},
   "outputs": [],
   "source": [
    "temp = get_temp(rho_gas, eint) "
   ]
  },
  {
   "cell_type": "code",
   "execution_count": null,
   "id": "b3a249aa",
   "metadata": {},
   "outputs": [],
   "source": [
    "3+4"
   ]
  },
  {
   "cell_type": "code",
   "execution_count": null,
   "id": "341e68ea",
   "metadata": {},
   "outputs": [],
   "source": []
  }
 ],
 "metadata": {
  "kernelspec": {
   "display_name": "Python 3 (ipykernel)",
   "language": "python",
   "name": "python3"
  },
  "language_info": {
   "codemirror_mode": {
    "name": "ipython",
    "version": 3
   },
   "file_extension": ".py",
   "mimetype": "text/x-python",
   "name": "python",
   "nbconvert_exporter": "python",
   "pygments_lexer": "ipython3",
   "version": "3.9.21"
  }
 },
 "nbformat": 4,
 "nbformat_minor": 5
}
